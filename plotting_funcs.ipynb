{
 "metadata": {
  "language_info": {
   "codemirror_mode": {
    "name": "ipython",
    "version": 3
   },
   "file_extension": ".py",
   "mimetype": "text/x-python",
   "name": "python",
   "nbconvert_exporter": "python",
   "pygments_lexer": "ipython3",
   "version": "3.8.3-final"
  },
  "orig_nbformat": 2,
  "kernelspec": {
   "name": "Python 3.8.3 64-bit ('anaconda3': virtualenv)",
   "display_name": "Python 3.8.3 64-bit ('anaconda3': virtualenv)",
   "metadata": {
    "interpreter": {
     "hash": "44999a8a8ee5f803fbe147472ffdab88f2c0b53a17ca5fe3ea788aa68b4e61e0"
    }
   }
  }
 },
 "nbformat": 4,
 "nbformat_minor": 2,
 "cells": [
  {
   "cell_type": "code",
   "execution_count": null,
   "metadata": {},
   "outputs": [],
   "source": [
    "import pandas as pd\n",
    "import numpy as np\n",
    "import math\n",
    "\n",
    "import matplotlib.pyplot as plt\n",
    "import seaborn as sns\n",
    "\n",
    "%matplotlib inline\n",
    "sns.set_style('whitegrid')"
   ]
  },
  {
   "cell_type": "code",
   "execution_count": null,
   "metadata": {},
   "outputs": [],
   "source": [
    "from sklearn.datasets import fetch_california_housing\n",
    "dataset = fetch_california_housing()\n",
    "df = pd.DataFrame(dataset.data, columns=[dataset.feature_names])\n",
    "df.head()"
   ]
  },
  {
   "cell_type": "code",
   "execution_count": null,
   "metadata": {},
   "outputs": [],
   "source": [
    "df.shape"
   ]
  },
  {
   "cell_type": "code",
   "execution_count": null,
   "metadata": {},
   "outputs": [],
   "source": [
    "df['price'] = 100_000 * dataset.target\n",
    "df.head()"
   ]
  },
  {
   "cell_type": "code",
   "execution_count": null,
   "metadata": {},
   "outputs": [],
   "source": [
    "df.isna().sum().sum()"
   ]
  },
  {
   "cell_type": "code",
   "execution_count": null,
   "metadata": {},
   "outputs": [],
   "source": [
    "df.columns"
   ]
  },
  {
   "cell_type": "code",
   "execution_count": null,
   "metadata": {},
   "outputs": [],
   "source": [
    "df.columns = df.columns.get_level_values(0)"
   ]
  },
  {
   "cell_type": "code",
   "execution_count": null,
   "metadata": {},
   "outputs": [],
   "source": [
    "df.columns"
   ]
  },
  {
   "cell_type": "code",
   "execution_count": null,
   "metadata": {},
   "outputs": [],
   "source": [
    "def helf_masked_corr_heatmap(dataframe, title=None, file=None):\n",
    "    plt.figure(figsize=(9,9))\n",
    "    sns.set(font_scale=1)\n",
    "\n",
    "    mask = np.zeros_like(dataframe.corr())\n",
    "    mask[np.triu_indices_from(mask)] = True\n",
    "\n",
    "    with sns.axes_style('white'):\n",
    "        sns.heatmap(dataframe.corr(), mask=mask, annot=True, cmap='coolwarm')\n",
    "    \n",
    "    if title: plt.title(f'\\n{title}\\n', fontsize=18)\n",
    "    plt.xlabel('')\n",
    "    plt.ylabel('')\n",
    "    if file: plt.savefig(file, bbox_inches='tight')\n",
    "    plt.show()\n",
    "\n",
    "    return"
   ]
  },
  {
   "cell_type": "code",
   "execution_count": null,
   "metadata": {},
   "outputs": [],
   "source": [
    "helf_masked_corr_heatmap(df, 'Calif. Housing Price Data - Variable Correlations')"
   ]
  },
  {
   "cell_type": "code",
   "execution_count": null,
   "metadata": {},
   "outputs": [],
   "source": [
    "def corr_to_target(dataframe, target, title=None, file=None):\n",
    "    plt.figure(figsize=(4,6))\n",
    "    sns.set(font_scale=1)\n",
    "\n",
    "    sns.heatmap(dataframe.corr()[[target]].sort_values(target, ascending=False)[1:], annot=True, cmap='coolwarm')\n",
    "    if title: plt.title(f'\\n{title}\\n', fontsize=18)\n",
    "    plt.xlabel('')\n",
    "    plt.ylabel('')\n",
    "    if file: plt.savefig(file, bbox_inches='tight')\n",
    "    plt.show()\n",
    "\n",
    "    return"
   ]
  },
  {
   "cell_type": "code",
   "execution_count": null,
   "metadata": {},
   "outputs": [],
   "source": [
    "corr_to_target(df, 'price', 'Calif Housing Price Data - Corr to Price')"
   ]
  },
  {
   "cell_type": "code",
   "execution_count": null,
   "metadata": {},
   "outputs": [],
   "source": [
    "def gen_scatterplots(dataframe, target_column, list_of_columns, cols=1, file=None):\n",
    "    rows        = math.ceil(len(list_of_columns)/cols)\n",
    "    figwidth    = 5 * cols\n",
    "    figheight   = 4 * rows\n",
    "\n",
    "    fig, ax = plt.subplots(nrows=rows, ncols=cols, figsize=(figwidth, figheight))\n",
    "\n",
    "    color_choices = ['blue', 'grey', 'goldenrod', 'red', 'black', 'darkorange', 'green']\n",
    "\n",
    "    plt.subplots_adjust(wspace=0.3, hspace=0.3)\n",
    "    ax = ax.ravel()\n",
    "\n",
    "    for i, column in enumerate(list_of_columns):\n",
    "        ax[i].scatter(dataframe[column], dataframe[target_column], color=color_choices[i % len(color_choices)], alpha=0.1)\n",
    "\n",
    "        #ax[i].set_title(f'{column} vs. {target_column}', fontsize=18)\n",
    "        ax[i].set_ylabel(f'{target_column}', fontsize=14)\n",
    "        ax[i].set_xlabel(f'{column}', fontsize=14)\n",
    "\n",
    "    fig.suptitle('\\nEach Feature vs. Target Scatter Plots', size=24)\n",
    "    fig.tight_layout()\n",
    "    fig.subplots_adjust(bottom=0, top=0.88)\n",
    "    if file: plt.savefig(file, bbox_inches='tight')\n",
    "    plt.show()\n",
    "    \n",
    "    return"
   ]
  },
  {
   "cell_type": "code",
   "execution_count": null,
   "metadata": {},
   "outputs": [],
   "source": [
    "feature_cols = [col for col in df.columns if col != 'price']\n",
    "gen_scatterplots(df, 'price', feature_cols, 3)"
   ]
  },
  {
   "cell_type": "code",
   "execution_count": null,
   "metadata": {},
   "outputs": [],
   "source": [
    "def gen_histogram(dataframe, cols=1, file=None):\n",
    "    rows        = math.ceil(len(dataframe.columns)/cols)\n",
    "    figwidth    = 5 * cols\n",
    "    figheight   = 4 * rows\n",
    "\n",
    "    fig, ax = plt.subplots(nrows=rows, ncols=cols, figsize=(figwidth, figheight))\n",
    "\n",
    "    color_choices = ['blue', 'grey', 'goldenrod', 'red', 'black', 'darkorange', 'green']\n",
    "    ax = ax.ravel()\n",
    "\n",
    "    for i, column in enumerate(dataframe.columns):\n",
    "        ax[i].hist(dataframe[column], color=color_choices[i % len(color_choices)], alpha = 1)\n",
    "\n",
    "        ax[i].set_title(f'{dataframe[column].name}', fontsize=18)\n",
    "        ax[i].set_ylabel('Observations', fontsize=14)\n",
    "        ax[i].set_xlabel('', fontsize=14)\n",
    "\n",
    "    fig.suptitle('\\nHistograms for All Variables in Dataframe', size=24)\n",
    "    fig.tight_layout()\n",
    "    fig.subplots_adjust(bottom=0, top=0.88)\n",
    "    if file: plt.savefig(file, bbox_inches='tight')\n",
    "    plt.show()\n",
    "\n",
    "    return"
   ]
  },
  {
   "cell_type": "code",
   "execution_count": null,
   "metadata": {},
   "outputs": [],
   "source": [
    "gen_histogram(df, 3)"
   ]
  },
  {
   "cell_type": "code",
   "execution_count": null,
   "metadata": {},
   "outputs": [],
   "source": [
    "def gen_boxplots(dataframe, cols=1, file=None):\n",
    "    rows        = math.ceil(len(dataframe.columns)/cols)\n",
    "    figwidth    = 5 * cols\n",
    "    figheight   = 4 * rows\n",
    "\n",
    "    fig, ax = plt.subplots(nrows=rows, ncols=cols, figsize=(figwidth, figheight))\n",
    "\n",
    "    plt.subplots_adjust(wspace=0.3, hspace=0.3)\n",
    "    ax = ax.ravel()\n",
    "\n",
    "    for i, column in enumerate(dataframe.columns):\n",
    "        ax[i].boxplot(dataframe[column])\n",
    "        ax[i].set_title(f'{dataframe[column].name}', fontsize=18)\n",
    "        ax[i].set_ylabel('', fontsize=14)\n",
    "        ax[i].set_xlabel('', fontsize=14)\n",
    "        ax[i].tick_params(labelbottom=False)\n",
    "\n",
    "    fig.suptitle('\\nBoxplots for All Variables in Dataframe', size=24)\n",
    "    fig.tight_layout()\n",
    "    fig.subplots_adjust(bottom=0, top=0.88)\n",
    "    if file: plt.savefig(file, bbox_inches='tight')\n",
    "    plt.show()\n",
    "\n",
    "    return"
   ]
  },
  {
   "cell_type": "code",
   "execution_count": null,
   "metadata": {},
   "outputs": [],
   "source": [
    "gen_boxplots(df, 3)"
   ]
  },
  {
   "cell_type": "code",
   "execution_count": null,
   "metadata": {},
   "outputs": [],
   "source": [
    "def gen_linecharts(dataframe, cols=1, file=None):\n",
    "    list_of_columns = list(dataframe.columns)\n",
    "    rows        = math.ceil(len(list_of_columns)/cols)\n",
    "    figwidth    = 5 * cols\n",
    "    figheight   = 4 * rows\n",
    "\n",
    "    fig, ax = plt.subplots(nrows=rows, ncols=cols, figsize=(figwidth, figheight))\n",
    "\n",
    "    color_choices = ['blue', 'grey', 'goldenrod', 'red', 'black', 'darkorange', 'green']\n",
    "\n",
    "    plt.subplots_adjust(wspace=0.3, hspace=0.3)\n",
    "    ax = ax.ravel()\n",
    "\n",
    "    for i, column in enumerate(list_of_columns):\n",
    "        ax[i].plot(dataframe[column], color=color_choices[i % len(color_choices)])\n",
    "\n",
    "        ax[i].set_title(f'{column}', fontsize=18)\n",
    "        ax[i].set_ylabel(f'{column}', fontsize=14)\n",
    "\n",
    "    fig.suptitle('\\nLine Graphs for All Variables in Dataframe', size=24)\n",
    "    fig.tight_layout()\n",
    "    fig.subplots_adjust(bottom=0, top=0.88)\n",
    "    if file: plt.savefig(file, bbox_inches='tight')\n",
    "    plt.show()\n",
    "\n",
    "    return"
   ]
  },
  {
   "cell_type": "code",
   "execution_count": null,
   "metadata": {},
   "outputs": [],
   "source": [
    "gen_linecharts(df, 3)"
   ]
  },
  {
   "cell_type": "code",
   "execution_count": null,
   "metadata": {},
   "outputs": [],
   "source": [
    "def gen_linecharts_rolling(dataframe, roll_num, cols=1, file=None):\n",
    "    list_of_columns = list(dataframe.columns)    \n",
    "    rows      = math.ceil(len(list_of_columns)/cols)\n",
    "    figwidth  = 5 * cols\n",
    "    figheight = 4 * rows\n",
    "    \n",
    "    dataframe = dataframe.rolling(roll_num).mean()\n",
    "\n",
    "    fig, ax = plt.subplots(nrows   = rows,\n",
    "                           ncols   = cols,\n",
    "                           figsize = (figwidth, figheight))\n",
    "    \n",
    "    color_choices = ['blue', 'grey', 'goldenrod', 'r', 'black', 'darkorange', 'g']\n",
    "\n",
    "    plt.subplots_adjust(wspace=0.3, hspace=0.3)\n",
    "    ax = ax.ravel()         # Ravel turns a matrix into a vector... easier to iterate\n",
    "\n",
    "    for i, column in enumerate(list_of_columns):\n",
    "        ax[i].plot(dataframe[column],\n",
    "                   color=color_choices[i % len(color_choices)])\n",
    "        \n",
    "        ax[i].set_title(f'{column}', fontsize=18)\n",
    "        ax[i].set_ylabel(f'{column}', fontsize=14)\n",
    "        ax[i].set_xlabel('Time', fontsize=14)\n",
    "        \n",
    "    fig.suptitle('\\nRolling Avg. Line Graphs (all vars)', size=24)\n",
    "    fig.tight_layout()\n",
    "    fig.subplots_adjust(bottom=0, top=0.88)\n",
    "    if file: plt.savefig(file, bbox_inches='tight')\n",
    "    plt.show();\n",
    "    \n",
    "    return"
   ]
  },
  {
   "cell_type": "code",
   "execution_count": null,
   "metadata": {},
   "outputs": [],
   "source": [
    "gen_linecharts_rolling(df, 150, 3)"
   ]
  }
 ]
}